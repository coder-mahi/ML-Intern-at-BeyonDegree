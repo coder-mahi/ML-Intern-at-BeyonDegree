{
  "nbformat": 4,
  "nbformat_minor": 0,
  "metadata": {
    "colab": {
      "provenance": [],
      "authorship_tag": "ABX9TyNNx2o+BNhAz7gWjJ9s04zW",
      "include_colab_link": true
    },
    "kernelspec": {
      "name": "python3",
      "display_name": "Python 3"
    },
    "language_info": {
      "name": "python"
    }
  },
  "cells": [
    {
      "cell_type": "markdown",
      "metadata": {
        "id": "view-in-github",
        "colab_type": "text"
      },
      "source": [
        "<a href=\"https://colab.research.google.com/github/coder-mahi/ML-Intern-at-BeyonDegree/blob/main/For_Final_Project_25_july.ipynb\" target=\"_parent\"><img src=\"https://colab.research.google.com/assets/colab-badge.svg\" alt=\"Open In Colab\"/></a>"
      ]
    },
    {
      "cell_type": "code",
      "source": [
        "import matplotlib.pyplot as plt\n",
        "from scipy import stats\n",
        "\n",
        "# x axis - independant variable\n",
        "student = [1,2,3,4,5,6,7,8,9,10,11,12,13,14,15,16,17,18,19,20,21,22,23,24,25]\n",
        "# y axis - dependant variable\n",
        "height = [2.3,2.4,2.5,3,3.2,2.9,4,4.5,4.3,3.8,5,5.7,5.6,6,6.2,6.4,6.1,7,7.1,6.2,5.3,5,4.6,5.3,6]\n",
        "\n",
        "slope, intercept, r, p, std_err = stats.linregress(student, height)\n",
        "\n",
        "def myfunc2(x):\n",
        "  return slope * x + intercept\n",
        "\n",
        "model2 = list(map(myfunc2, student))\n",
        "\n",
        "plt.scatter(student, height)\n",
        "plt.plot(student, model2) # Draw the linear regression line:\n",
        "plt.xlabel('Students Roll No')\n",
        "plt.ylabel('Height Of The Students')\n",
        "plt.show()\n",
        "\n",
        "# prediction\n",
        "pred_height = myfunc2(9.5)\n",
        "print()\n",
        "print(pred_height)"
      ],
      "metadata": {
        "colab": {
          "base_uri": "https://localhost:8080/",
          "height": 314
        },
        "id": "Xt7Wc6GsRXQW",
        "outputId": "94eb1b5c-219f-4811-e956-e8bd7fb4f985"
      },
      "execution_count": null,
      "outputs": [
        {
          "output_type": "display_data",
          "data": {
            "text/plain": [
              "<Figure size 432x288 with 1 Axes>"
            ],
            "image/png": "[encoded data removed]"
          },
          "metadata": {
            "needs_background": "light"
          }
        },
        {
          "output_type": "stream",
          "name": "stdout",
          "text": [
            "\n",
            "4.26676923076923\n"
          ]
        }
      ]
    }
  ]
}